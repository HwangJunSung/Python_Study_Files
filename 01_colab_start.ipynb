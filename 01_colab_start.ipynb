{
  "nbformat": 4,
  "nbformat_minor": 0,
  "metadata": {
    "colab": {
      "name": "01_colab_start.ipynb",
      "provenance": [],
      "authorship_tag": "ABX9TyP8J+9zkw4F66uD5RzVoh2K",
      "include_colab_link": true
    },
    "kernelspec": {
      "name": "python3",
      "display_name": "Python 3"
    },
    "language_info": {
      "name": "python"
    }
  },
  "cells": [
    {
      "cell_type": "markdown",
      "metadata": {
        "id": "view-in-github",
        "colab_type": "text"
      },
      "source": [
        "<a href=\"https://colab.research.google.com/github/HwangJunSung/Python_Study_Files/blob/main/01_colab_start.ipynb\" target=\"_parent\"><img src=\"https://colab.research.google.com/assets/colab-badge.svg\" alt=\"Open In Colab\"/></a>"
      ]
    },
    {
      "cell_type": "code",
      "execution_count": null,
      "metadata": {
        "colab": {
          "base_uri": "https://localhost:8080/"
        },
        "id": "m41CFgcxfA2M",
        "outputId": "0d015c8f-7ac1-48d3-9329-a10b60174f46"
      },
      "outputs": [
        {
          "output_type": "stream",
          "name": "stdout",
          "text": [
            "Please type your name: \n",
            "강원대학교\n",
            "Hello,  강원대학교\n"
          ]
        }
      ],
      "source": [
        "name = input(\"Please type your name: \\n\")\n",
        "\n",
        "# 이름 출력해보기\n",
        "print(\"Hello, \", name)"
      ]
    },
    {
      "cell_type": "markdown",
      "source": [
        "colab 파이썬 실습환경입니다."
      ],
      "metadata": {
        "id": "X5s7T-dFgzB4"
      }
    },
    {
      "cell_type": "code",
      "source": [
        "print(\"파이썬 실습 환경입니다.\")"
      ],
      "metadata": {
        "colab": {
          "base_uri": "https://localhost:8080/"
        },
        "id": "200c4XmXg7Bn",
        "outputId": "b5024ef3-ef0f-448a-e1fb-c6d84bfb32a9"
      },
      "execution_count": null,
      "outputs": [
        {
          "output_type": "stream",
          "name": "stdout",
          "text": [
            "파이썬 실습 환경입니다.\n"
          ]
        }
      ]
    }
  ]
}